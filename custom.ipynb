{
 "cells": [
  {
   "cell_type": "code",
   "execution_count": 2,
   "id": "67482ee0-49c5-494e-a619-fbccc4afa2c8",
   "metadata": {},
   "outputs": [],
   "source": [
    "# custom_csv_detection_dataset.py\n",
    "import os\n",
    "import pandas as pd\n",
    "import torch\n",
    "from PIL import Image\n",
    "from torch.utils.data import Dataset\n",
    "import torchvision.transforms as T\n",
    "\n",
    "class CustomCSVDetectionDataset(Dataset):\n",
    "    def __init__(self, csv_file, images_dir, transforms=None):\n",
    "        self.df = pd.read_csv(csv_file)\n",
    "        self.images_dir = images_dir\n",
    "        self.transforms = transforms\n",
    "        self.image_ids = self.df['image_name'].unique()\n",
    "\n",
    "    def __len__(self):\n",
    "        return len(self.image_ids)\n",
    "\n",
    "    def __getitem__(self, idx):\n",
    "        image_id = self.image_ids[idx]\n",
    "        records = self.df[self.df['image_name'] == image_id]\n",
    "\n",
    "        image = Image.open(os.path.join(self.images_dir, image_id)).convert(\"RGB\")\n",
    "        boxes = []\n",
    "        labels = []\n",
    "\n",
    "        for _, row in records.iterrows():\n",
    "            xmin = row['bbox_x']\n",
    "            ymin = row['bbox_y']\n",
    "            xmax = xmin + row['bbox_width']\n",
    "            ymax = ymin + row['bbox_height']\n",
    "            boxes.append([xmin, ymin, xmax, ymax])\n",
    "            labels.append(1 if row['label_name'] == 'Marine Animal' else 2)\n",
    "\n",
    "        boxes = torch.as_tensor(boxes, dtype=torch.float32)\n",
    "        labels = torch.as_tensor(labels, dtype=torch.int64)\n",
    "        image_id = torch.tensor([idx])\n",
    "\n",
    "        target = {}\n",
    "        target[\"boxes\"] = boxes\n",
    "        target[\"labels\"] = labels\n",
    "        target[\"image_id\"] = image_id\n",
    "\n",
    "        # Convert image to tensor if no transformations are applied\n",
    "        if self.transforms:\n",
    "            image = self.transforms(image)\n",
    "        else:\n",
    "            image = T.ToTensor()(image)\n",
    "\n",
    "        return image, target"
   ]
  },
  {
   "cell_type": "code",
   "execution_count": 3,
   "id": "8a79c2ac-b713-407a-9949-e1ca8f248a7e",
   "metadata": {},
   "outputs": [
    {
     "name": "stdout",
     "output_type": "stream",
     "text": [
      "Current Working Directory: F:\\sml_project\n"
     ]
    }
   ],
   "source": [
    "import os\n",
    "print(\"Current Working Directory:\", os.getcwd())\n"
   ]
  },
  {
   "cell_type": "code",
   "execution_count": null,
   "id": "6d9391e5-31e8-42f0-ae47-c6309ec35ada",
   "metadata": {},
   "outputs": [],
   "source": []
  }
 ],
 "metadata": {
  "kernelspec": {
   "display_name": "Python 3 (ipykernel)",
   "language": "python",
   "name": "python3"
  },
  "language_info": {
   "codemirror_mode": {
    "name": "ipython",
    "version": 3
   },
   "file_extension": ".py",
   "mimetype": "text/x-python",
   "name": "python",
   "nbconvert_exporter": "python",
   "pygments_lexer": "ipython3",
   "version": "3.12.7"
  }
 },
 "nbformat": 4,
 "nbformat_minor": 5
}
